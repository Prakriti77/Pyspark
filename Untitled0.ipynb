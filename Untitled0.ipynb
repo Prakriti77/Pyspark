{
  "nbformat": 4,
  "nbformat_minor": 0,
  "metadata": {
    "colab": {
      "provenance": [],
      "authorship_tag": "ABX9TyP50oSyooCQsSuT8OeO+AEd",
      "include_colab_link": true
    },
    "kernelspec": {
      "name": "python3",
      "display_name": "Python 3"
    },
    "language_info": {
      "name": "python"
    }
  },
  "cells": [
    {
      "cell_type": "markdown",
      "metadata": {
        "id": "view-in-github",
        "colab_type": "text"
      },
      "source": [
        "<a href=\"https://colab.research.google.com/github/Prakriti77/as/blob/main/Untitled0.ipynb\" target=\"_parent\"><img src=\"https://colab.research.google.com/assets/colab-badge.svg\" alt=\"Open In Colab\"/></a>"
      ]
    },
    {
      "cell_type": "code",
      "execution_count": null,
      "metadata": {
        "colab": {
          "base_uri": "https://localhost:8080/"
        },
        "id": "xsqLvSh1MW3Q",
        "outputId": "94e10ba6-fb13-48ff-9bda-1e50d6dcb2a2"
      },
      "outputs": [
        {
          "output_type": "stream",
          "name": "stdout",
          "text": [
            "Looking in indexes: https://pypi.org/simple, https://us-python.pkg.dev/colab-wheels/public/simple/\n",
            "Collecting pyspark\n",
            "  Downloading pyspark-3.3.1.tar.gz (281.4 MB)\n",
            "\u001b[K     |████████████████████████████████| 281.4 MB 43 kB/s \n",
            "\u001b[?25hCollecting py4j==0.10.9.5\n",
            "  Downloading py4j-0.10.9.5-py2.py3-none-any.whl (199 kB)\n",
            "\u001b[K     |████████████████████████████████| 199 kB 66.4 MB/s \n",
            "\u001b[?25hBuilding wheels for collected packages: pyspark\n",
            "  Building wheel for pyspark (setup.py) ... \u001b[?25l\u001b[?25hdone\n",
            "  Created wheel for pyspark: filename=pyspark-3.3.1-py2.py3-none-any.whl size=281845512 sha256=9da8282477f7aba0c958bc1857f47db7b82b88a5cfe0528c9251893ef48d7464\n",
            "  Stored in directory: /root/.cache/pip/wheels/43/dc/11/ec201cd671da62fa9c5cc77078235e40722170ceba231d7598\n",
            "Successfully built pyspark\n",
            "Installing collected packages: py4j, pyspark\n",
            "Successfully installed py4j-0.10.9.5 pyspark-3.3.1\n"
          ]
        }
      ],
      "source": [
        "pip install pyspark"
      ]
    },
    {
      "cell_type": "code",
      "source": [
        "from pyspark.sql import SparkSession"
      ],
      "metadata": {
        "id": "fK7RuqfQMkDe"
      },
      "execution_count": null,
      "outputs": []
    },
    {
      "cell_type": "code",
      "source": [
        "spark=SparkSession.builder.appName(\"how to read csv file\").getOrCreate()"
      ],
      "metadata": {
        "id": "0kRbqbL9PX_O"
      },
      "execution_count": null,
      "outputs": []
    },
    {
      "cell_type": "code",
      "source": [
        "df = spark. read. csv('/content/sample_data/california_housing_test.csv')"
      ],
      "metadata": {
        "id": "nmjUHs1NQgtH"
      },
      "execution_count": null,
      "outputs": []
    },
    {
      "cell_type": "code",
      "source": [
        "df.show()"
      ],
      "metadata": {
        "colab": {
          "base_uri": "https://localhost:8080/"
        },
        "id": "w64BKHniRCWx",
        "outputId": "b7c761b5-073f-46dc-c268-5623305b95d2"
      },
      "execution_count": null,
      "outputs": [
        {
          "output_type": "stream",
          "name": "stdout",
          "text": [
            "+-----------+---------+------------------+-----------+--------------+-----------+----------+-------------+------------------+\n",
            "|        _c0|      _c1|               _c2|        _c3|           _c4|        _c5|       _c6|          _c7|               _c8|\n",
            "+-----------+---------+------------------+-----------+--------------+-----------+----------+-------------+------------------+\n",
            "|  longitude| latitude|housing_median_age|total_rooms|total_bedrooms| population|households|median_income|median_house_value|\n",
            "|-122.050000|37.370000|         27.000000|3885.000000|    661.000000|1537.000000|606.000000|     6.608500|     344700.000000|\n",
            "|-118.300000|34.260000|         43.000000|1510.000000|    310.000000| 809.000000|277.000000|     3.599000|     176500.000000|\n",
            "|-117.810000|33.780000|         27.000000|3589.000000|    507.000000|1484.000000|495.000000|     5.793400|     270500.000000|\n",
            "|-118.360000|33.820000|         28.000000|  67.000000|     15.000000|  49.000000| 11.000000|     6.135900|     330000.000000|\n",
            "|-119.670000|36.330000|         19.000000|1241.000000|    244.000000| 850.000000|237.000000|     2.937500|      81700.000000|\n",
            "|-119.560000|36.510000|         37.000000|1018.000000|    213.000000| 663.000000|204.000000|     1.663500|      67000.000000|\n",
            "|-121.430000|38.630000|         43.000000|1009.000000|    225.000000| 604.000000|218.000000|     1.664100|      67000.000000|\n",
            "|-120.650000|35.480000|         19.000000|2310.000000|    471.000000|1341.000000|441.000000|     3.225000|     166900.000000|\n",
            "|-122.840000|38.400000|         15.000000|3080.000000|    617.000000|1446.000000|599.000000|     3.669600|     194400.000000|\n",
            "|-118.020000|34.080000|         31.000000|2402.000000|    632.000000|2830.000000|603.000000|     2.333300|     164200.000000|\n",
            "|-118.240000|33.980000|         45.000000| 972.000000|    249.000000|1288.000000|261.000000|     2.205400|     125000.000000|\n",
            "|-119.120000|35.850000|         37.000000| 736.000000|    166.000000| 564.000000|138.000000|     2.416700|      58300.000000|\n",
            "|-121.930000|37.250000|         36.000000|1089.000000|    182.000000| 535.000000|170.000000|     4.690000|     252600.000000|\n",
            "|-117.030000|32.970000|         16.000000|3936.000000|    694.000000|1935.000000|659.000000|     4.562500|     231200.000000|\n",
            "|-117.970000|33.730000|         27.000000|2097.000000|    325.000000|1217.000000|331.000000|     5.712100|     222500.000000|\n",
            "|-117.990000|33.810000|         42.000000| 161.000000|     40.000000| 157.000000| 50.000000|     2.200000|     153100.000000|\n",
            "|-120.810000|37.530000|         15.000000| 570.000000|    123.000000| 189.000000|107.000000|     1.875000|     181300.000000|\n",
            "|-121.200000|38.690000|         26.000000|3077.000000|    607.000000|1603.000000|595.000000|     2.717400|     137500.000000|\n",
            "|-118.880000|34.210000|         26.000000|1590.000000|    196.000000| 654.000000|199.000000|     6.585100|     300000.000000|\n",
            "+-----------+---------+------------------+-----------+--------------+-----------+----------+-------------+------------------+\n",
            "only showing top 20 rows\n",
            "\n"
          ]
        }
      ]
    },
    {
      "cell_type": "code",
      "source": [
        "from pyspark.sql import SparkSession"
      ],
      "metadata": {
        "id": "oL9npSP7RH0u"
      },
      "execution_count": null,
      "outputs": []
    },
    {
      "cell_type": "code",
      "source": [
        "spark=SparkSession.builder.appName(\"how to read excel file\").getOrCreate()"
      ],
      "metadata": {
        "id": "bo5neh19X01b"
      },
      "execution_count": null,
      "outputs": []
    },
    {
      "cell_type": "code",
      "source": [
        "df = spark. read. csv('/content/file_example_XLS_10.xls')"
      ],
      "metadata": {
        "id": "y6laghxdX_U_"
      },
      "execution_count": null,
      "outputs": []
    },
    {
      "cell_type": "code",
      "source": [
        "df.show()"
      ],
      "metadata": {
        "colab": {
          "base_uri": "https://localhost:8080/"
        },
        "id": "dVMNXtgrYSQh",
        "outputId": "fb96d03b-995c-4743-843c-7d3843d2751c"
      },
      "execution_count": null,
      "outputs": [
        {
          "output_type": "stream",
          "name": "stdout",
          "text": [
            "+--------------------+\n",
            "|                 _c0|\n",
            "+--------------------+\n",
            "|��\u0011ࡱ\u001a�\u0000\u0000\u0000\u0000\u0000\u0000\u0000\u0000\u0000\u0000\u0000...|\n",
            "|         \u0000\u0000\u0000��������|\n",
            "|\u0000\u0000\u0000����\u000f\u0000\u0000\u0000������...|\n",
            "|�\\a\u0000\u0000\u0000\u0000\u0006\u0000\u0000\u0000�\u0000\u0002\u0000�\u0004...|\n",
            "|\u0000�\u0000\\b\u0000\u0000MM/DD/YY�\u0000...|\n",
            "|\u0000\u0000\\b\\f\u0000\u0000\\b\u0017\u0000\u0000\\b�\u0000...|\n",
            "|\u0000\u0000First Name\\t\u0000\u0000L...|\n",
            "|     \u0000\u0000United States|\n",
            "|\u0000\u000015/10/2017\u0004\u0000\u0000Ma...|\n",
            "|     \u0000\u0000Great Britain|\n",
            "|\u0000\u000016/08/2016\u0006\u0000\u0000Ph...|\n",
            "|\u0000\u000021/05/2015\\b\u0000\u0000K...|\n",
            "|\u0000!\u0000�\u0004\u0000\u0000\\f\u0000\u0000\u0000c\\b\u0015\u0000...|\n",
            "|      \u0000\u0000\u0000\\t\\b\u0010\u0000\u0000\u0006\u0010\u0000�|\n",
            "|�\\a\u0000\u0000\u0000\u0000\u0006\u0000\u0000\u0000\\f\u0000\u0002\u0000d...|\n",
            "|\u0000}\u0000\\f\u0000\u0000\u0000\u0000\u0001�\\v\u000f\u0000\u0000\u0000...|\n",
            "|\u0000\u0000\u0000\u0000\u0000%\u0001\u0000\u0000\u0000\u0000\u0000\u0001\u000f\u0000\\b...|\n",
            "|\u0000\u0000\u0000\u0000\u0000%\u0001\u0000\u0000\u0000\u0000\u0000\u0001\u000f\u0000\\b...|\n",
            "|       \u0000\u0000\u0000\u0000\u0000\u0015\u0000\u0002\u0000\u0000\u0000�\u0000|\n",
            "|       \u0000\u0000\u0000\u0001\u0000\u0015\u0000\u0000\u0000\u0000\u0000�\u0000|\n",
            "+--------------------+\n",
            "only showing top 20 rows\n",
            "\n"
          ]
        }
      ]
    },
    {
      "cell_type": "code",
      "source": [
        "from pyspark.sql import SparkSession"
      ],
      "metadata": {
        "id": "1Rfxj6beYXND"
      },
      "execution_count": null,
      "outputs": []
    },
    {
      "cell_type": "code",
      "source": [
        "spark=SparkSession.builder.appName(\"how to read excel file\").getOrCreate()"
      ],
      "metadata": {
        "id": "9CFwHf0-fqG7"
      },
      "execution_count": null,
      "outputs": []
    },
    {
      "cell_type": "code",
      "source": [
        "df = spark. read. csv('/content/userdata1.parquet')"
      ],
      "metadata": {
        "id": "o2iasJ2Mfu5z"
      },
      "execution_count": null,
      "outputs": []
    },
    {
      "cell_type": "code",
      "source": [
        "df.show()"
      ],
      "metadata": {
        "colab": {
          "base_uri": "https://localhost:8080/"
        },
        "id": "omUnxSWDf7xM",
        "outputId": "bce8a4cb-6866-42f0-c999-b16809e6f185"
      },
      "execution_count": null,
      "outputs": [
        {
          "output_type": "stream",
          "name": "stdout",
          "text": [
            "+--------------------+\n",
            "|                 _c0|\n",
            "+--------------------+\n",
            "|PAR1\u0015\u0004\u0015Ⱥ\u0001\u0015Ⱥ\u0001L\u0015�\u000f\u0015...|\n",
            "|\u001f7\u0016\u0000\u0000N%\u0000\u0000��W�\\f\u0000...|\n",
            "|\u0000\u0000N%\u0000\u0000.[�?7\u0000\u0000N%...|\n",
            "|\u0000\u0000N%\u0000\u0000�\u0015J�F\u0000\u0000N%...|\n",
            "|\u0000\u0000N%\u0000\u0000@ |�\u0015\u0000\u0000N%...|\n",
            "|�7\u0000\u0000N%\u0000\u0000�z\u0005�F\u0000\u0000N...|\n",
            "|�\u001f5H\u0000\u0000N%\u0000\u0000��\\v.?...|\n",
            "|\u0005\u0000\u0000N%\u0000\u0000x\u0015Z�\\a\u0000\u0000N...|\n",
            "|&\u0000\u0000N%\u0000\u0000�I��\u0001\u0000\u0000N...|\n",
            "|\u0000\u0000N%\u0000\u0000�G�l;\u0000\u0000N%...|\n",
            "|���@\u0000\u0000N%\u0000\u0000r�l$0\u0000...|\n",
            "|\u0000\u0000N%\u0000\u0000�?��\u001e\u0000\u0000N%...|\n",
            "|}N\u0000\u0000N%\u0000\u0000��Y\u0015\u001a\u0000\u0000N...|\n",
            "|�\u0010LE\u0000\u0000N%\u0000\u0000Rږ�\u001b\u0000\u0000...|\n",
            "|\u0018\u0000\u0000N%\u0000\u0000n�\u0018u1\u0000\u0000N...|\n",
            "|           \u0000\u0000N%\u0000\u0000�G|\n",
            "|\u0000\u0000N%\u0000\u0000�j�r!\u0000\u0000N%...|\n",
            "|H\u0000\u0000N%\u0000\u0000�>i�\u0004\u0000\u0000N...|\n",
            "|Jsl\u0012\u0000\u0000N%\u0000\u0000�i�\u00059\u0000...|\n",
            "|\u0000\u0000N%\u0000\u0000�\u0011��4\u0000\u0000N%...|\n",
            "+--------------------+\n",
            "only showing top 20 rows\n",
            "\n"
          ]
        }
      ]
    },
    {
      "cell_type": "code",
      "source": [
        "\"Groupby\""
      ],
      "metadata": {
        "id": "v2a5Wfswf_06",
        "colab": {
          "base_uri": "https://localhost:8080/",
          "height": 35
        },
        "outputId": "f30a481a-a423-4890-ad28-f62868c31d90"
      },
      "execution_count": 1,
      "outputs": [
        {
          "output_type": "execute_result",
          "data": {
            "text/plain": [
              "'Groupby'"
            ],
            "application/vnd.google.colaboratory.intrinsic+json": {
              "type": "string"
            }
          },
          "metadata": {},
          "execution_count": 1
        }
      ]
    },
    {
      "cell_type": "code",
      "source": [
        "Spark"
      ],
      "metadata": {
        "colab": {
          "base_uri": "https://localhost:8080/",
          "height": 165
        },
        "id": "52dTkXkGkXXK",
        "outputId": "017c8b43-f1c0-45e5-8471-b030b8b06461"
      },
      "execution_count": null,
      "outputs": [
        {
          "output_type": "error",
          "ename": "NameError",
          "evalue": "ignored",
          "traceback": [
            "\u001b[0;31m---------------------------------------------------------------------------\u001b[0m",
            "\u001b[0;31mNameError\u001b[0m                                 Traceback (most recent call last)",
            "\u001b[0;32m<ipython-input-2-827a12df8d1c>\u001b[0m in \u001b[0;36m<module>\u001b[0;34m\u001b[0m\n\u001b[0;32m----> 1\u001b[0;31m \u001b[0mSpark\u001b[0m\u001b[0;34m\u001b[0m\u001b[0;34m\u001b[0m\u001b[0m\n\u001b[0m",
            "\u001b[0;31mNameError\u001b[0m: name 'Spark' is not defined"
          ]
        }
      ]
    },
    {
      "cell_type": "code",
      "source": [],
      "metadata": {
        "id": "RykbhP9GkbEC"
      },
      "execution_count": null,
      "outputs": []
    }
  ]
}