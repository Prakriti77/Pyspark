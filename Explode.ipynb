{
  "nbformat": 4,
  "nbformat_minor": 0,
  "metadata": {
    "colab": {
      "provenance": [],
      "authorship_tag": "ABX9TyPbgQUZvFXiRs7/r5Y7Ou9M",
      "include_colab_link": true
    },
    "kernelspec": {
      "name": "python3",
      "display_name": "Python 3"
    },
    "language_info": {
      "name": "python"
    }
  },
  "cells": [
    {
      "cell_type": "markdown",
      "metadata": {
        "id": "view-in-github",
        "colab_type": "text"
      },
      "source": [
        "<a href=\"https://colab.research.google.com/github/Prakriti77/Pyspark/blob/main/Explode.ipynb\" target=\"_parent\"><img src=\"https://colab.research.google.com/assets/colab-badge.svg\" alt=\"Open In Colab\"/></a>"
      ]
    },
    {
      "cell_type": "code",
      "execution_count": null,
      "metadata": {
        "colab": {
          "base_uri": "https://localhost:8080/"
        },
        "id": "VXOLEYi1ismH",
        "outputId": "26044064-ef9e-4bc7-aa95-4f890e654b29"
      },
      "outputs": [
        {
          "output_type": "stream",
          "name": "stdout",
          "text": [
            "Looking in indexes: https://pypi.org/simple, https://us-python.pkg.dev/colab-wheels/public/simple/\n",
            "Collecting pyspark\n",
            "  Downloading pyspark-3.3.1.tar.gz (281.4 MB)\n",
            "\u001b[K     |████████████████████████████████| 281.4 MB 38 kB/s \n",
            "\u001b[?25hCollecting py4j==0.10.9.5\n",
            "  Downloading py4j-0.10.9.5-py2.py3-none-any.whl (199 kB)\n",
            "\u001b[K     |████████████████████████████████| 199 kB 71.7 MB/s \n",
            "\u001b[?25hBuilding wheels for collected packages: pyspark\n",
            "  Building wheel for pyspark (setup.py) ... \u001b[?25l\u001b[?25hdone\n",
            "  Created wheel for pyspark: filename=pyspark-3.3.1-py2.py3-none-any.whl size=281845512 sha256=c78b9b7017adea8d988d47c1032a109ae8425d1617e3d972a4cddd44c069de3e\n",
            "  Stored in directory: /root/.cache/pip/wheels/43/dc/11/ec201cd671da62fa9c5cc77078235e40722170ceba231d7598\n",
            "Successfully built pyspark\n",
            "Installing collected packages: py4j, pyspark\n",
            "Successfully installed py4j-0.10.9.5 pyspark-3.3.1\n"
          ]
        }
      ],
      "source": [
        "pip install pyspark"
      ]
    },
    {
      "cell_type": "code",
      "source": [
        "#explode() func"
      ],
      "metadata": {
        "id": "qAEIi3pEkA2Q"
      },
      "execution_count": null,
      "outputs": []
    },
    {
      "cell_type": "code",
      "source": [
        "from pyspark.sql import SparkSession"
      ],
      "metadata": {
        "id": "ELhxgQ8HlKM-"
      },
      "execution_count": null,
      "outputs": []
    },
    {
      "cell_type": "code",
      "source": [
        "from pyspark.sql.functions import *"
      ],
      "metadata": {
        "id": "8aglAd8nlXKn"
      },
      "execution_count": null,
      "outputs": []
    },
    {
      "cell_type": "code",
      "source": [
        "spark=SparkSession.builder.appName(\"sparkdf\").getOrCreate()"
      ],
      "metadata": {
        "id": "V0QrbiWvlagU"
      },
      "execution_count": null,
      "outputs": []
    },
    {
      "cell_type": "code",
      "source": [
        "data = [('Jaya', '20', ['SQL','Data Science']),\n",
        "        ('Milan', '21', ['ML','AI']),\n",
        "        ('Rohit', '19', ['Programming', 'DSA']),\n",
        "        ('Maria', '20', ['DBMS', 'Networking']),\n",
        "        ('Jay', '22', ['Data Analytics','ML'])]"
      ],
      "metadata": {
        "id": "yW9Lh1FtldYu"
      },
      "execution_count": null,
      "outputs": []
    },
    {
      "cell_type": "code",
      "source": [
        "columns = ['Name', 'Age', 'Courses_enrolled']"
      ],
      "metadata": {
        "id": "17xd8rcflhw-"
      },
      "execution_count": null,
      "outputs": []
    },
    {
      "cell_type": "code",
      "source": [
        "df = spark.createDataFrame(data, columns)"
      ],
      "metadata": {
        "id": "QXmqNQ_6lkS7"
      },
      "execution_count": null,
      "outputs": []
    },
    {
      "cell_type": "code",
      "source": [
        "df.printSchema()"
      ],
      "metadata": {
        "colab": {
          "base_uri": "https://localhost:8080/"
        },
        "id": "wCO6LLbulmju",
        "outputId": "114a4cbe-05d2-41e0-ca6e-4198d4a7a3aa"
      },
      "execution_count": null,
      "outputs": [
        {
          "output_type": "stream",
          "name": "stdout",
          "text": [
            "root\n",
            " |-- Name: string (nullable = true)\n",
            " |-- Age: string (nullable = true)\n",
            " |-- Courses_enrolled: array (nullable = true)\n",
            " |    |-- element: string (containsNull = true)\n",
            "\n"
          ]
        }
      ]
    },
    {
      "cell_type": "code",
      "source": [
        "df.show()"
      ],
      "metadata": {
        "colab": {
          "base_uri": "https://localhost:8080/"
        },
        "id": "VPxtqo65loyl",
        "outputId": "b7592088-e80f-44c3-a35e-9642b03cce64"
      },
      "execution_count": null,
      "outputs": [
        {
          "output_type": "stream",
          "name": "stdout",
          "text": [
            "+-----+---+--------------------+\n",
            "| Name|Age|    Courses_enrolled|\n",
            "+-----+---+--------------------+\n",
            "| Jaya| 20| [SQL, Data Science]|\n",
            "|Milan| 21|            [ML, AI]|\n",
            "|Rohit| 19|  [Programming, DSA]|\n",
            "|Maria| 20|  [DBMS, Networking]|\n",
            "|  Jay| 22|[Data Analytics, ML]|\n",
            "+-----+---+--------------------+\n",
            "\n"
          ]
        }
      ]
    },
    {
      "cell_type": "code",
      "source": [
        "df2 = df.select(df.Name,explode(df.Courses_enrolled))"
      ],
      "metadata": {
        "id": "qziAXEqilscQ"
      },
      "execution_count": null,
      "outputs": []
    },
    {
      "cell_type": "code",
      "source": [
        "df2.printSchema()"
      ],
      "metadata": {
        "colab": {
          "base_uri": "https://localhost:8080/"
        },
        "id": "xwIbZNXXl0Dc",
        "outputId": "00cefd0f-72a3-4d20-ada7-e0da2060de3b"
      },
      "execution_count": null,
      "outputs": [
        {
          "output_type": "stream",
          "name": "stdout",
          "text": [
            "root\n",
            " |-- Name: string (nullable = true)\n",
            " |-- col: string (nullable = true)\n",
            "\n"
          ]
        }
      ]
    },
    {
      "cell_type": "code",
      "source": [
        "df2.show()"
      ],
      "metadata": {
        "colab": {
          "base_uri": "https://localhost:8080/"
        },
        "id": "0O3OdYSol18B",
        "outputId": "de3ebc74-a003-40bd-f73d-45f8ae5e1da6"
      },
      "execution_count": null,
      "outputs": [
        {
          "output_type": "stream",
          "name": "stdout",
          "text": [
            "+-----+--------------+\n",
            "| Name|           col|\n",
            "+-----+--------------+\n",
            "| Jaya|           SQL|\n",
            "| Jaya|  Data Science|\n",
            "|Milan|            ML|\n",
            "|Milan|            AI|\n",
            "|Rohit|   Programming|\n",
            "|Rohit|           DSA|\n",
            "|Maria|          DBMS|\n",
            "|Maria|    Networking|\n",
            "|  Jay|Data Analytics|\n",
            "|  Jay|            ML|\n",
            "+-----+--------------+\n",
            "\n"
          ]
        }
      ]
    },
    {
      "cell_type": "code",
      "source": [
        "#creating a dataframe that contains some null arrays"
      ],
      "metadata": {
        "id": "91RKs1uxl5nX"
      },
      "execution_count": null,
      "outputs": []
    },
    {
      "cell_type": "code",
      "source": [
        "data = [('Jaya', '20', ['SQL', 'Data Science']),\n",
        "        ('Milan', '21', ['ML', 'AI']),\n",
        "        ('Rohit', '19', None),\n",
        "        ('Maria', '20', ['DBMS', 'Networking']),\n",
        "        ('Jay', '22', None)]"
      ],
      "metadata": {
        "id": "Crh9nAaqmmAa"
      },
      "execution_count": null,
      "outputs": []
    },
    {
      "cell_type": "code",
      "source": [
        "columns = ['Name', 'Age', 'Courses_enrolled']"
      ],
      "metadata": {
        "id": "3ubIgHEpmqLk"
      },
      "execution_count": null,
      "outputs": []
    },
    {
      "cell_type": "code",
      "source": [
        "df = spark.createDataFrame(data, columns)"
      ],
      "metadata": {
        "id": "-cB03Znamt19"
      },
      "execution_count": null,
      "outputs": []
    },
    {
      "cell_type": "code",
      "source": [
        "df.printSchema()"
      ],
      "metadata": {
        "colab": {
          "base_uri": "https://localhost:8080/"
        },
        "id": "mbzhXHzzmwjI",
        "outputId": "5acdd967-d6ac-4774-a3b0-418c8ee58dcb"
      },
      "execution_count": null,
      "outputs": [
        {
          "output_type": "stream",
          "name": "stdout",
          "text": [
            "root\n",
            " |-- Name: string (nullable = true)\n",
            " |-- Age: string (nullable = true)\n",
            " |-- Courses_enrolled: array (nullable = true)\n",
            " |    |-- element: string (containsNull = true)\n",
            "\n"
          ]
        }
      ]
    },
    {
      "cell_type": "code",
      "source": [
        "df.show()"
      ],
      "metadata": {
        "colab": {
          "base_uri": "https://localhost:8080/"
        },
        "id": "c2nqarnpmy_-",
        "outputId": "e59eb982-ff03-45c3-9c1e-54d942a04037"
      },
      "execution_count": null,
      "outputs": [
        {
          "output_type": "stream",
          "name": "stdout",
          "text": [
            "+-----+---+-------------------+\n",
            "| Name|Age|   Courses_enrolled|\n",
            "+-----+---+-------------------+\n",
            "| Jaya| 20|[SQL, Data Science]|\n",
            "|Milan| 21|           [ML, AI]|\n",
            "|Rohit| 19|               null|\n",
            "|Maria| 20| [DBMS, Networking]|\n",
            "|  Jay| 22|               null|\n",
            "+-----+---+-------------------+\n",
            "\n"
          ]
        }
      ]
    },
    {
      "cell_type": "code",
      "source": [
        "#explode_outer()"
      ],
      "metadata": {
        "id": "Tnpsb1aTm2d1"
      },
      "execution_count": null,
      "outputs": []
    },
    {
      "cell_type": "code",
      "source": [
        "df4 = df.select(df.Name, explode_outer(df.Courses_enrolled))"
      ],
      "metadata": {
        "id": "Z_GvBthjm-iv"
      },
      "execution_count": null,
      "outputs": []
    },
    {
      "cell_type": "code",
      "source": [
        "df4.printSchema()"
      ],
      "metadata": {
        "colab": {
          "base_uri": "https://localhost:8080/"
        },
        "id": "NFFUcE1SnB7T",
        "outputId": "1372b178-b009-4616-d356-00f4ca690468"
      },
      "execution_count": null,
      "outputs": [
        {
          "output_type": "stream",
          "name": "stdout",
          "text": [
            "root\n",
            " |-- Name: string (nullable = true)\n",
            " |-- col: string (nullable = true)\n",
            "\n"
          ]
        }
      ]
    },
    {
      "cell_type": "code",
      "source": [
        "df4.show()"
      ],
      "metadata": {
        "colab": {
          "base_uri": "https://localhost:8080/"
        },
        "id": "pFdeMwt1nEU4",
        "outputId": "c3e06b8a-b03d-434f-aedf-c027c630e38a"
      },
      "execution_count": null,
      "outputs": [
        {
          "output_type": "stream",
          "name": "stdout",
          "text": [
            "+-----+------------+\n",
            "| Name|         col|\n",
            "+-----+------------+\n",
            "| Jaya|         SQL|\n",
            "| Jaya|Data Science|\n",
            "|Milan|          ML|\n",
            "|Milan|          AI|\n",
            "|Rohit|        null|\n",
            "|Maria|        DBMS|\n",
            "|Maria|  Networking|\n",
            "|  Jay|        null|\n",
            "+-----+------------+\n",
            "\n"
          ]
        }
      ]
    },
    {
      "cell_type": "code",
      "source": [
        "#posexplode()"
      ],
      "metadata": {
        "id": "04UKyrKMnIUm"
      },
      "execution_count": null,
      "outputs": []
    },
    {
      "cell_type": "code",
      "source": [
        "df2 = df.select(df.Name, posexplode(df.Courses_enrolled))"
      ],
      "metadata": {
        "id": "hiet5kumnRJ9"
      },
      "execution_count": null,
      "outputs": []
    },
    {
      "cell_type": "code",
      "source": [
        "df2.printSchema()"
      ],
      "metadata": {
        "colab": {
          "base_uri": "https://localhost:8080/"
        },
        "id": "8bUz2OmOnT87",
        "outputId": "0162df7a-ef01-4b22-f6a4-58d561233f85"
      },
      "execution_count": null,
      "outputs": [
        {
          "output_type": "stream",
          "name": "stdout",
          "text": [
            "root\n",
            " |-- Name: string (nullable = true)\n",
            " |-- pos: integer (nullable = false)\n",
            " |-- col: string (nullable = true)\n",
            "\n"
          ]
        }
      ]
    },
    {
      "cell_type": "code",
      "source": [
        "df2.show()"
      ],
      "metadata": {
        "colab": {
          "base_uri": "https://localhost:8080/"
        },
        "id": "dxmnymqYnXzA",
        "outputId": "279e7da3-f0a4-4b8b-ee74-d9791950876e"
      },
      "execution_count": null,
      "outputs": [
        {
          "output_type": "stream",
          "name": "stdout",
          "text": [
            "+-----+---+------------+\n",
            "| Name|pos|         col|\n",
            "+-----+---+------------+\n",
            "| Jaya|  0|         SQL|\n",
            "| Jaya|  1|Data Science|\n",
            "|Milan|  0|          ML|\n",
            "|Milan|  1|          AI|\n",
            "|Maria|  0|        DBMS|\n",
            "|Maria|  1|  Networking|\n",
            "+-----+---+------------+\n",
            "\n"
          ]
        }
      ]
    },
    {
      "cell_type": "code",
      "source": [
        "#posexplode_outer()"
      ],
      "metadata": {
        "id": "fKsrKAK2nbDF"
      },
      "execution_count": null,
      "outputs": []
    },
    {
      "cell_type": "code",
      "source": [
        "df2 = df.select(df.Name, posexplode_outer(df.Courses_enrolled))"
      ],
      "metadata": {
        "id": "P_eFYJoPniA_"
      },
      "execution_count": null,
      "outputs": []
    },
    {
      "cell_type": "code",
      "source": [
        "df2.printSchema()"
      ],
      "metadata": {
        "colab": {
          "base_uri": "https://localhost:8080/"
        },
        "id": "NvqS1QAEnl8C",
        "outputId": "c2d17447-8fee-4d4d-8055-f3f734882da9"
      },
      "execution_count": null,
      "outputs": [
        {
          "output_type": "stream",
          "name": "stdout",
          "text": [
            "root\n",
            " |-- Name: string (nullable = true)\n",
            " |-- pos: integer (nullable = true)\n",
            " |-- col: string (nullable = true)\n",
            "\n"
          ]
        }
      ]
    },
    {
      "cell_type": "code",
      "source": [
        "df2.show()"
      ],
      "metadata": {
        "colab": {
          "base_uri": "https://localhost:8080/"
        },
        "id": "XsNat_nVnru0",
        "outputId": "1b38e7a4-1be5-4fc6-b40c-0dc40659b8c8"
      },
      "execution_count": null,
      "outputs": [
        {
          "output_type": "stream",
          "name": "stdout",
          "text": [
            "+-----+----+------------+\n",
            "| Name| pos|         col|\n",
            "+-----+----+------------+\n",
            "| Jaya|   0|         SQL|\n",
            "| Jaya|   1|Data Science|\n",
            "|Milan|   0|          ML|\n",
            "|Milan|   1|          AI|\n",
            "|Rohit|null|        null|\n",
            "|Maria|   0|        DBMS|\n",
            "|Maria|   1|  Networking|\n",
            "|  Jay|null|        null|\n",
            "+-----+----+------------+\n",
            "\n"
          ]
        }
      ]
    },
    {
      "cell_type": "code",
      "source": [],
      "metadata": {
        "id": "mcAsLKZenuFi"
      },
      "execution_count": null,
      "outputs": []
    }
  ]
}